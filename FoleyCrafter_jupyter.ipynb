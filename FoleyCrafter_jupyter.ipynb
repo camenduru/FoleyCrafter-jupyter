{
  "cells": [
    {
      "cell_type": "markdown",
      "metadata": {
        "id": "view-in-github"
      },
      "source": [
        "[![Open In Colab](https://colab.research.google.com/assets/colab-badge.svg)](https://colab.research.google.com/github/camenduru/FoleyCrafter-jupyter/blob/main/FoleyCrafter_jupyter.ipynb)"
      ]
    },
    {
      "cell_type": "code",
      "execution_count": null,
      "metadata": {
        "id": "VjYy0F2gZIPR"
      },
      "outputs": [],
      "source": [
        "%cd /content\n",
        "!git clone -b dev https://github.com/camenduru/FoleyCrafter-hf /content/FoleyCrafter\n",
        "%cd /content/FoleyCrafter\n",
        "\n",
        "!pip install decord==0.6.0 diffusers==0.25.1 kornia==0.7.1 h5py==3.7.0 einops==0.7.0 imageio==2.27.0 ipdb==0.13.13 librosa==0.9.2 moviepy==1.0.3 \n",
        "!pip install numpy==1.23.5 omegaconf==2.3.0 opencv_python==4.8.0.76 Pillow==10.2.0 pydub==0.25.1 safetensors==0.3.3 scipy==1.12.0 soundfile==0.12.1 \n",
        "!pip install tqdm==4.65.0 transformers==4.32.1 gradio==4.37.2 accelerate==0.31.0\n",
        "\n",
        "!python app.py"
      ]
    }
  ],
  "metadata": {
    "accelerator": "GPU",
    "colab": {
      "gpuType": "T4",
      "provenance": []
    },
    "kernelspec": {
      "display_name": "Python 3",
      "name": "python3"
    },
    "language_info": {
      "name": "python"
    }
  },
  "nbformat": 4,
  "nbformat_minor": 0
}
